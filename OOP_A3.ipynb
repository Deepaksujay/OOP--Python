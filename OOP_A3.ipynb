{
  "nbformat": 4,
  "nbformat_minor": 0,
  "metadata": {
    "colab": {
      "name": "OOP-A3.ipynb",
      "provenance": [],
      "collapsed_sections": [],
      "authorship_tag": "ABX9TyPIYpeq4FsePcEMbLyb3wca",
      "include_colab_link": true
    },
    "kernelspec": {
      "name": "python3",
      "display_name": "Python 3"
    },
    "language_info": {
      "name": "python"
    }
  },
  "cells": [
    {
      "cell_type": "markdown",
      "metadata": {
        "id": "view-in-github",
        "colab_type": "text"
      },
      "source": [
        "<a href=\"https://colab.research.google.com/github/Deepaksujay/OOP--Python/blob/main/OOP_A3.ipynb\" target=\"_parent\"><img src=\"https://colab.research.google.com/assets/colab-badge.svg\" alt=\"Open In Colab\"/></a>"
      ]
    },
    {
      "cell_type": "code",
      "metadata": {
        "colab": {
          "base_uri": "https://localhost:8080/"
        },
        "id": "ZVnFVnxJRcWo",
        "outputId": "96fa5493-3e17-4961-d75a-0aacb66d92c6"
      },
      "source": [
        "#initialisation method  \n",
        "class Score:  \n",
        "  \n",
        "    def __init__(self,rank):  \n",
        "        self.rank = rank \n",
        "   \n",
        "    def say_rank(self):  \n",
        "        print('Your rank is', self.rank)  \n",
        "  \n",
        "    \n",
        "student_1 = Score(11) \n",
        "student_2 = Score(1)\n",
        "student_3 = Score(6)\n",
        "  \n",
        "student_1.say_rank()  \n",
        "student_2.say_rank()\n",
        "student_3.say_rank()"
      ],
      "execution_count": 2,
      "outputs": [
        {
          "output_type": "stream",
          "name": "stdout",
          "text": [
            "Your rank is 11\n",
            "Your rank is 1\n",
            "Your rank is 6\n"
          ]
        }
      ]
    },
    {
      "cell_type": "code",
      "metadata": {
        "colab": {
          "base_uri": "https://localhost:8080/"
        },
        "id": "ct-PAl87aoNK",
        "outputId": "4cfe36c4-a60f-44be-ee9e-31683377936e"
      },
      "source": [
        "#private variable          \n",
        "\n",
        "class Score:\n",
        "    #__score is a private variable    \n",
        "    def __init__(self):\n",
        "        self.__score = 87   \n",
        "    def get_score(self):\n",
        "        print('Your score: ',(self.__score))\n",
        "    \n",
        "\n",
        "My_Score = Score()\n",
        "My_Score.get_score()\n",
        "My_Score.__score = 1        # will not change variable because its private\n",
        "My_Score.get_score()\n"
      ],
      "execution_count": 53,
      "outputs": [
        {
          "output_type": "stream",
          "name": "stdout",
          "text": [
            "Your score:  87\n",
            "Your score:  87\n",
            "driving. maxspeed  400\n",
            "driving. maxspeed  400\n"
          ]
        }
      ]
    },
    {
      "cell_type": "code",
      "metadata": {
        "colab": {
          "base_uri": "https://localhost:8080/",
          "height": 300
        },
        "id": "AsZdR1EqdFfy",
        "outputId": "35f6b250-d1e3-412b-a64c-afa08f5b75ba"
      },
      "source": [
        "class Private:\n",
        "    def __init__(self):\n",
        "        self.pri = \"Private\"\n",
        "        self.__p = \"this is private number\"\n",
        "        print(\"Calling private member of class: \")\n",
        "        print(self.__p)\n",
        "\n",
        "class Derived(Private):\n",
        "    def __init__(self):   \n",
        "        # Calling constructor of Private class\n",
        "        Private.__init__(self)\n",
        "\n",
        "\n",
        "obj1 = Private()\n",
        "print(obj1.pri)\n",
        "obj2 = Derived()\n",
        "print(obj2.pri)\n",
        "print(obj2.__p). #as this is private we get error"
      ],
      "execution_count": 55,
      "outputs": [
        {
          "output_type": "stream",
          "name": "stdout",
          "text": [
            "Calling private member of class: \n",
            "this is private number\n",
            "Private\n",
            "Calling private member of class: \n",
            "this is private number\n",
            "Private\n"
          ]
        },
        {
          "output_type": "error",
          "ename": "AttributeError",
          "evalue": "ignored",
          "traceback": [
            "\u001b[0;31m---------------------------------------------------------------------------\u001b[0m",
            "\u001b[0;31mAttributeError\u001b[0m                            Traceback (most recent call last)",
            "\u001b[0;32m<ipython-input-55-effb6afb4568>\u001b[0m in \u001b[0;36m<module>\u001b[0;34m()\u001b[0m\n\u001b[1;32m     16\u001b[0m \u001b[0mobj2\u001b[0m \u001b[0;34m=\u001b[0m \u001b[0mDerived\u001b[0m\u001b[0;34m(\u001b[0m\u001b[0;34m)\u001b[0m\u001b[0;34m\u001b[0m\u001b[0;34m\u001b[0m\u001b[0m\n\u001b[1;32m     17\u001b[0m \u001b[0mprint\u001b[0m\u001b[0;34m(\u001b[0m\u001b[0mobj2\u001b[0m\u001b[0;34m.\u001b[0m\u001b[0mpri\u001b[0m\u001b[0;34m)\u001b[0m\u001b[0;34m\u001b[0m\u001b[0;34m\u001b[0m\u001b[0m\n\u001b[0;32m---> 18\u001b[0;31m \u001b[0mprint\u001b[0m\u001b[0;34m(\u001b[0m\u001b[0mobj2\u001b[0m\u001b[0;34m.\u001b[0m\u001b[0m__p\u001b[0m\u001b[0;34m)\u001b[0m\u001b[0;34m\u001b[0m\u001b[0;34m\u001b[0m\u001b[0m\n\u001b[0m",
            "\u001b[0;31mAttributeError\u001b[0m: 'Derived' object has no attribute '__p'"
          ]
        }
      ]
    },
    {
      "cell_type": "code",
      "metadata": {
        "colab": {
          "base_uri": "https://localhost:8080/"
        },
        "id": "xT5WIPxCd2op",
        "outputId": "3af58832-246b-4104-9f24-a4e48586b6c2"
      },
      "source": [
        "class Student:\n",
        "  score=0\n",
        "  def __init__(self,num) :\n",
        "    Student.score=Student.score+num\n",
        "\n",
        "s1=Student(20)\n",
        "s2=Student(71)\n",
        "s3=Student(14)\n",
        "\n",
        "print(\"Total Score:\", Student.score)\n",
        "print(\"Total Score:\", s2.score)\n"
      ],
      "execution_count": 35,
      "outputs": [
        {
          "output_type": "stream",
          "name": "stdout",
          "text": [
            "Total Score: 105\n",
            "Total Score: 105\n"
          ]
        }
      ]
    },
    {
      "cell_type": "code",
      "metadata": {
        "colab": {
          "base_uri": "https://localhost:8080/"
        },
        "id": "Tmx4hrrJgLa4",
        "outputId": "630fa69d-600b-4da7-f5e4-548cd83d8673"
      },
      "source": [
        "class Student:\n",
        "  def __init__(self) :\n",
        "    print(\"This is non parametrized constructor with no arguments or parameters\") \n",
        "\n",
        "  def showscore(self,score):\n",
        "       print(\"Your score:\", score * score)\n",
        "       return score\n",
        "s1=Student()\n",
        "s2=Student()\n",
        "s3=Student()\n",
        "\n",
        "result1= s1.showscore(5)\n",
        "result2= s2.showscore(6)\n",
        "\n",
        "print(\"number of Students in OOP class :\", result1,result2)"
      ],
      "execution_count": 37,
      "outputs": [
        {
          "output_type": "stream",
          "name": "stdout",
          "text": [
            "This is non parametrized constructor with no arguments or parameters\n",
            "This is non parametrized constructor with no arguments or parameters\n",
            "This is non parametrized constructor with no arguments or parameters\n",
            "Your score: 25\n",
            "Your score: 36\n",
            "number of Students in OOP class : 5 6\n"
          ]
        }
      ]
    },
    {
      "cell_type": "code",
      "metadata": {
        "colab": {
          "base_uri": "https://localhost:8080/"
        },
        "id": "S8qKg_U3gkTl",
        "outputId": "d94ea8db-7ccc-455c-c710-5d83935a7a4d"
      },
      "source": [
        "class Student:\n",
        "  count=0\n",
        "  def __init__(self,name_,age_) :\n",
        "    self.name = name_\n",
        "    self.age = age_\n",
        "    print(\"This is parametrized constructor with no arguments or parameters\") \n",
        "\n",
        "  def display(self,styear):\n",
        "       print(\"Student joined IIIT Dharwad   :\", self.name, self.age, styear)\n",
        "       if styear <= 2020 :\n",
        "         print (\"Student has completed the course\")\n",
        "       return \n",
        "s1=Student(\"Ram\",21)\n",
        "s2=Student(\"Krishna\",23)\n",
        "s3=Student(\"Kumar\",22)\n",
        "\n",
        "s1.display(2021)\n",
        "s2.display(2019)"
      ],
      "execution_count": 39,
      "outputs": [
        {
          "output_type": "stream",
          "name": "stdout",
          "text": [
            "This is parametrized constructor with no arguments or parameters\n",
            "This is parametrized constructor with no arguments or parameters\n",
            "This is parametrized constructor with no arguments or parameters\n",
            "Student joined IIIT Dharwad   : Ram 21 2021\n",
            "Student joined IIIT Dharwad   : Krishna 23 2019\n",
            "Student has completed the course\n"
          ]
        }
      ]
    },
    {
      "cell_type": "code",
      "metadata": {
        "colab": {
          "base_uri": "https://localhost:8080/"
        },
        "id": "2qzsRX55hAN5",
        "outputId": "f4b2bb95-ed08-447e-e7ed-bb3dbb8e5c31"
      },
      "source": [
        "class Family:\n",
        "  members = 0\n",
        "  def __init__(self,name):\n",
        "    self.name = name\n",
        "    self.__lastname = 'Gumen'\n",
        "  def get_name(self):\n",
        "    return self.name\n",
        "  def add_to_family(self):\n",
        "    Family.members = Family.members + 1\n",
        "    print(\"Successfully added to the family\")\n",
        "  def get_count(self):\n",
        "    return Family.members\n",
        "  def get_lastName(self):\n",
        "    print(self.__lastname) #cant be accessed\n",
        "\n",
        "person = Family(\"Ram\")\n",
        "print(person.get_name())\n",
        "person.add_to_family()\n",
        "print(person.get_count())\n",
        "\n",
        "print('\\n')\n",
        "person_2 = Family(\"Lakshman\")\n",
        "print(person_2.get_name())\n",
        "person_2.add_to_family()\n",
        "print(person_2.get_count())\n",
        "\n",
        "print('\\n')\n",
        "person_3 = Family(\"Siva\")\n",
        "print(person_3.get_name())\n",
        "person_3.add_to_family()\n",
        "print(person_3.get_count())\n",
        "\n",
        "print('\\n')\n",
        "person.__last_name = 'Aranya'\n",
        "person.get_lastName #can't be accessed"
      ],
      "execution_count": 63,
      "outputs": [
        {
          "output_type": "stream",
          "name": "stdout",
          "text": [
            "Gumen\n",
            "Ram\n",
            "Successfully added to the family\n",
            "1\n",
            "\n",
            "\n",
            "Gumen\n",
            "Lakshman\n",
            "Successfully added to the family\n",
            "2\n",
            "\n",
            "\n",
            "Gumen\n",
            "Siva\n",
            "Successfully added to the family\n",
            "3\n",
            "\n",
            "\n"
          ]
        },
        {
          "output_type": "execute_result",
          "data": {
            "text/plain": [
              "<bound method Family.get_lastName of <__main__.Family object at 0x7f68ee333410>>"
            ]
          },
          "metadata": {},
          "execution_count": 63
        }
      ]
    }
  ]
}