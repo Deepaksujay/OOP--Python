{
  "nbformat": 4,
  "nbformat_minor": 0,
  "metadata": {
    "colab": {
      "name": "OOP-python-basics.ipynb",
      "provenance": []
    },
    "kernelspec": {
      "name": "python3",
      "display_name": "Python 3"
    },
    "language_info": {
      "name": "python"
    }
  },
  "cells": [
    {
      "cell_type": "code",
      "metadata": {
        "colab": {
          "base_uri": "https://localhost:8080/",
          "height": 54
        },
        "id": "oT2hjd8bVCov",
        "outputId": "e3f2cb52-e0b9-4d66-ea12-0a703902be78"
      },
      "source": [
        "num = [1,23,5,6,\"list\"]     #comment for a singel line\n",
        "print(num)\n",
        "\"\"\"comment for a \n",
        "              multiline\"\"\"\n",
        "              "
      ],
      "execution_count": 4,
      "outputs": [
        {
          "output_type": "stream",
          "text": [
            "[1, 23, 5, 6, 'list']\n"
          ],
          "name": "stdout"
        },
        {
          "output_type": "execute_result",
          "data": {
            "application/vnd.google.colaboratory.intrinsic+json": {
              "type": "string"
            },
            "text/plain": [
              "'comment for a \\n              multiline'"
            ]
          },
          "metadata": {},
          "execution_count": 4
        }
      ]
    },
    {
      "cell_type": "code",
      "metadata": {
        "colab": {
          "base_uri": "https://localhost:8080/"
        },
        "id": "Eqpcb1eOWCka",
        "outputId": "cf9855fd-528c-45db-cac5-28c94eab5962"
      },
      "source": [
        "#indentation is so important in python\n",
        "\n",
        "for i in range(0,4):\n",
        "  print(i) #here indentaion is used to show that this statement comes under the loop"
      ],
      "execution_count": 14,
      "outputs": [
        {
          "output_type": "stream",
          "text": [
            "0\n",
            "1\n",
            "2\n",
            "3\n"
          ],
          "name": "stdout"
        }
      ]
    },
    {
      "cell_type": "code",
      "metadata": {
        "colab": {
          "base_uri": "https://localhost:8080/"
        },
        "id": "xEzE7dz9XPX5",
        "outputId": "7ea89791-59cc-4a06-fc6f-98d12bffbc30"
      },
      "source": [
        "#id is an identity for each variable which will be unique and no repetetions occur\n",
        "a=10\n",
        "print(id(a))\n",
        "\n",
        "#declarations\n",
        "a=b=c=3       #all a,b,c will be equal to 3\n",
        "d=e=f=4,5,6    # d,e,f will acts as list           \n",
        "g,h,i=7,8,9     #g=7 h=8 i=9  \n",
        "print(a,b,c,d,e,f,g,h,i)"
      ],
      "execution_count": 17,
      "outputs": [
        {
          "output_type": "stream",
          "text": [
            "94283018287904\n",
            "3 3 3 (4, 5, 6) (4, 5, 6) (4, 5, 6) 7 8 9\n"
          ],
          "name": "stdout"
        }
      ]
    },
    {
      "cell_type": "code",
      "metadata": {
        "colab": {
          "base_uri": "https://localhost:8080/"
        },
        "id": "zSwrwsiYZLgf",
        "outputId": "5cee949b-6bf8-4665-9785-fc884bcd2e03"
      },
      "source": [
        "#global and local variables\n",
        "\n",
        "a = 10\n",
        "b=5\n",
        "def hi():\n",
        "  global a\n",
        "  a=11       #here a permanently becomes 11\n",
        "  b=6         #where as b becomes 6 only in function\n",
        "  print(\"in funtion:\",a,b)\n",
        "\n",
        "hi()\n",
        "print(\"Outside funtion:\",a,b)"
      ],
      "execution_count": 21,
      "outputs": [
        {
          "output_type": "stream",
          "text": [
            "in funtion: 11 6\n",
            "Outside funtion: 11 5\n"
          ],
          "name": "stdout"
        }
      ]
    },
    {
      "cell_type": "code",
      "metadata": {
        "colab": {
          "base_uri": "https://localhost:8080/"
        },
        "id": "FHc0o8gHbjOX",
        "outputId": "a47dadbd-a0da-494b-b146-995502ced368"
      },
      "source": [
        "str_ = 'halle luaha' \n",
        "print(str_[:])\n",
        "print(str_[::])\n",
        "first_word = str_[:5]\n",
        "print(\"First word:\",first_word) \n",
        "second_word = str_[6:-1] \n",
        "print(\"second word:\",second_word)\n",
        "\n",
        "\n",
        "#slicing strings using the function slice\n",
        "#syntax:   slice(a,b,c).  a=start b=end c=step\n",
        "word_1= slice(0,5,1)\n",
        "word_2 = slice(6,10,1)\n",
        "print(\"word 1:\",str_[word_1])\n",
        "print(\"word 2:\",str_[word_2])\n",
        "\n",
        "\n",
        "\n",
        "\n",
        "#reversing the string\n",
        "reverse_1 = str_[::-1] \n",
        "print(\"reverse without slice:\",reverse_1)\n",
        "reverse_2 = str_[-1:0:-1]\n",
        "print(\"reverse with slice:\",reverse_2)\n",
        "\n",
        "\n",
        "#getting a sub string from a given string\n",
        "sub_1 = slice(4) #here as we have given only four it takes 0 as default starting position and 1 as default step size\n",
        "# slice(4) = slice(0,4,1)\n",
        "print(\"sub string:\",str_[sub_1])\n",
        "#the command slice can also be used to both lists and tuples"
      ],
      "execution_count": 67,
      "outputs": [
        {
          "output_type": "stream",
          "text": [
            "halle luaha\n",
            "halle luaha\n",
            "First word: halle\n",
            "second word: luah\n",
            "word 1: halle\n",
            "word 2: luah\n",
            "reverse without slice: ahaul ellah\n",
            "reverse with slice: ahaul ella\n",
            "sub string: hall\n"
          ],
          "name": "stdout"
        }
      ]
    },
    {
      "cell_type": "code",
      "metadata": {
        "colab": {
          "base_uri": "https://localhost:8080/"
        },
        "id": "I6Mq0zJsuFiS",
        "outputId": "d328cc50-e667-4265-d936-626775ea3d9d"
      },
      "source": [
        "#list\n",
        "list_1 = [1,3,5,'hi']\n",
        "#strings\n",
        "str_1 = \"I love IIIT Dharwad\"\n",
        "#sets\n",
        "set_1 = {12,42,3} # here [] doesnt works as they are unordered in nature\n",
        "#dictionary \n",
        "dictionary_1 = {0 : 'zero' , 1 : 'one' , 'two' : 2}\n",
        "print(dictionary_1['two'])"
      ],
      "execution_count": 71,
      "outputs": [
        {
          "output_type": "stream",
          "text": [
            "2\n"
          ],
          "name": "stdout"
        }
      ]
    },
    {
      "cell_type": "code",
      "metadata": {
        "colab": {
          "base_uri": "https://localhost:8080/"
        },
        "id": "RgLITOQ4WvPS",
        "outputId": "ce64609a-5d5b-451c-db95-7533ec4d76f9"
      },
      "source": [
        "#explicit conversions\n",
        "print(\"Explicit conversions:\")\n",
        "two = \"2\"\n",
        "print(\"two type:\",type(two),\"value:\",two)\n",
        "two = int(two)\n",
        "print(\"two type:\",type(two),\"value:\",two)\n",
        "\n",
        "#implicit conversions\n",
        "print(\"Implicit conversions:\")\n",
        "one = \"1\"\n",
        "print(\"one type:\",type(one),\"value:\",one)\n",
        "one = 1\n",
        "print(\"one type:\",type(one),\"value:\",one)\n",
        "\n"
      ],
      "execution_count": 74,
      "outputs": [
        {
          "output_type": "stream",
          "text": [
            "Explicit conversions:\n",
            "two type: <class 'str'> value: 2\n",
            "two type: <class 'int'> value: 2\n",
            "Implicit conversions:\n",
            "one type: <class 'str'> value: 1\n",
            "one type: <class 'int'> value: 1\n"
          ],
          "name": "stdout"
        }
      ]
    },
    {
      "cell_type": "code",
      "metadata": {
        "colab": {
          "base_uri": "https://localhost:8080/"
        },
        "id": "g0Y_O32bPOOC",
        "outputId": "29301e7a-d514-4e29-d612-3b274acf9a84"
      },
      "source": [
        "x = 30\n",
        "y = 10\n",
        "print(\"x =\",x)\n",
        "print(\"y =\",y)\n",
        "\n",
        "#Arthimetic Operators\n",
        "print(\"Arthimetic Operators:\")\n",
        "print(\"x + y =\",x+y)\n",
        "print(\"x - y =\",x-y)\n",
        "print(\"x * y =\",x*y)\n",
        "print(\"x / y =\",x/y)\n",
        "print(\"x ^ y =\",x**y)\n",
        "\n",
        "#Comparision Operators\n",
        "print(\"Comparision Operators:\")\n",
        "print(\"x > y =\",x>y)\n",
        "print(\"x == y =\",x==y)\n",
        "print(\"x < y =\",x<y)\n",
        "print(\"x >= y =\",x>=y)\n",
        "print(\"x <= y =\",x<=y)\n",
        "print(\"x != y =\",x!=y)\n",
        "\n",
        "#Logical Operators\n",
        "a,b = True,False\n",
        "print(\"Logical Operators\")\n",
        "print(\"a:\",a)\n",
        "print(\"b:\",b)\n",
        "print(\"a and b:\",a and b)\n",
        "print(\"a or b:\",a or b)\n",
        "print(\"not b:\",not b)\n",
        "\n",
        "#bitwise operators\n",
        "print(\"Bitwise Operators:\")\n",
        "print(\"x & y :\",x&y)\n",
        "print(\"x^y :\",x^y)\n",
        "print(\"x<<3 :\",x<<3)\n",
        "print(\"y>>1 :\",y>>1)\n",
        "\n",
        "#Membership Operators\n",
        "print(\"Membership Operators:\")\n",
        "str_ = \"Halle luya\"\n",
        "print('luya' in str_)"
      ],
      "execution_count": 91,
      "outputs": [
        {
          "output_type": "stream",
          "text": [
            "x = 30\n",
            "y = 10\n",
            "Arthimetic Operators:\n",
            "x + y = 40\n",
            "x - y = 20\n",
            "x * y = 300\n",
            "x / y = 3.0\n",
            "x ^ y = 590490000000000\n",
            "Comparision Operators:\n",
            "x > y = True\n",
            "x == y = False\n",
            "x < y = False\n",
            "x >= y = True\n",
            "x <= y = False\n",
            "x != y = True\n",
            "Logical Operators\n",
            "a: True\n",
            "b: False\n",
            "a and b: False\n",
            "a or b: True\n",
            "not b: True\n",
            "Bitwise Operators:\n",
            "x & y : 10\n",
            "x^y : 20\n",
            "x<<3 : 240\n",
            "y>>1 : 5\n",
            "Membership Operators:\n",
            "True\n"
          ],
          "name": "stdout"
        }
      ]
    },
    {
      "cell_type": "code",
      "metadata": {
        "colab": {
          "base_uri": "https://localhost:8080/"
        },
        "id": "iOunlmlHQyU6",
        "outputId": "06cb6afb-26ae-4336-ceda-8c7e31a65b5a"
      },
      "source": [
        "#if loop\n",
        "x = 12\n",
        "if x == 10:\n",
        "  print(\"X is 10\")\n",
        "elif x==11:\n",
        "  print(\"X is 11\")\n",
        "else:\n",
        "  print(\"We don't know the value of the X\")\n",
        "\n",
        "#range function and for loop\n",
        "x = range(0,10,2) #start = 0 step = 2 end = 10. x=[0,2,4,6,8]\n",
        "for i in x:\n",
        "  print(i)\n",
        "#we can directly use range function in for loop\n",
        "for i in range(0,10,2):\n",
        "  print(i)\n",
        "\n",
        "#we can also break the loops using break command\n",
        "\n",
        "for i in range(12,30,2):\n",
        "  if (i % 5 == 0):\n",
        "    print(\"Answer is\",i)\n",
        "    break\n",
        "# i = 20\n",
        "while i < 50:\n",
        "  i += i/2\n",
        "  print(\"i:\",i)"
      ],
      "execution_count": 104,
      "outputs": [
        {
          "output_type": "stream",
          "text": [
            "We don't know the value of the X\n",
            "0\n",
            "2\n",
            "4\n",
            "6\n",
            "8\n",
            "0\n",
            "2\n",
            "4\n",
            "6\n",
            "8\n",
            "Answer is 20\n",
            "i: 30.0\n",
            "i: 45.0\n",
            "i: 67.5\n"
          ],
          "name": "stdout"
        }
      ]
    },
    {
      "cell_type": "code",
      "metadata": {
        "id": "N7dXUqU_Vfqh"
      },
      "source": [
        "#if you have a function or loop or anything which haven't implemented yet but you want to implement it in future we use the command called 'pass'\n",
        "for i in range(0,2,1):\n",
        "  pass\n",
        "\n",
        "def hi():\n",
        "  pass\n",
        "  "
      ],
      "execution_count": 105,
      "outputs": []
    },
    {
      "cell_type": "code",
      "metadata": {
        "id": "h1c-emGRXkEh"
      },
      "source": [
        ""
      ],
      "execution_count": null,
      "outputs": []
    }
  ]
}